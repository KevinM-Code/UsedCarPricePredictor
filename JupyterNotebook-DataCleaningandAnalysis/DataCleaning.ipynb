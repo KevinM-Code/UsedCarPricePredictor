{
 "cells": [
  {
   "cell_type": "code",
   "execution_count": 1,
   "id": "263935cf",
   "metadata": {},
   "outputs": [],
   "source": [
    "import numpy as np \n",
    "import pandas as pd "
   ]
  },
  {
   "cell_type": "code",
   "execution_count": 2,
   "id": "25e65b71",
   "metadata": {},
   "outputs": [],
   "source": [
    "cars=pd.read_csv('vehicles.csv')"
   ]
  },
  {
   "cell_type": "code",
   "execution_count": 3,
   "id": "ecea20ac",
   "metadata": {},
   "outputs": [],
   "source": [
    "# Get rid of columns not used for this analysis\n",
    "cars=cars.drop(columns=['id', 'url', 'region_url','image_url', 'VIN', 'county','posting_date', 'description', 'title_status', 'lat', 'long', 'state', 'region', 'cylinders', 'size', 'drive', 'condition'])"
   ]
  },
  {
   "cell_type": "code",
   "execution_count": 4,
   "id": "62fcbbef",
   "metadata": {},
   "outputs": [],
   "source": [
    "# Delete records where there was no year noted\n",
    "cars = cars[pd.notnull(cars['year'])]"
   ]
  },
  {
   "cell_type": "code",
   "execution_count": 5,
   "id": "5d8d91ec",
   "metadata": {},
   "outputs": [],
   "source": [
    "# Delete records where there was no manufacturer noted\n",
    "cars = cars[pd.notnull(cars['manufacturer'])]"
   ]
  },
  {
   "cell_type": "code",
   "execution_count": 6,
   "id": "b604bc9a",
   "metadata": {},
   "outputs": [],
   "source": [
    "# Change the column type to int\n",
    "cars = cars.astype({\"year\": int})"
   ]
  },
  {
   "cell_type": "code",
   "execution_count": 7,
   "id": "52c1d31b",
   "metadata": {},
   "outputs": [],
   "source": [
    "# Delete cars older than or equal to 2010\n",
    "cars = cars[cars['year'] >= 2010]"
   ]
  },
  {
   "cell_type": "code",
   "execution_count": 8,
   "id": "47f0013d",
   "metadata": {},
   "outputs": [],
   "source": [
    "# get age of car by using year\n",
    "cars['age'] = 2022 - cars['year']"
   ]
  },
  {
   "cell_type": "code",
   "execution_count": 9,
   "id": "72f65aca",
   "metadata": {},
   "outputs": [],
   "source": [
    "# Drop column year\n",
    "cars.drop(['year'], axis=1, inplace=True)"
   ]
  },
  {
   "cell_type": "code",
   "execution_count": 10,
   "id": "ac13e33f",
   "metadata": {},
   "outputs": [],
   "source": [
    "# Drop cars that are 2022 models and have more than 13,000 miles\n",
    "cars = cars.drop(cars[(cars['age'] == 0) & (cars['odometer'] >= 13000)].index)"
   ]
  },
  {
   "cell_type": "code",
   "execution_count": 11,
   "id": "c6d08adb",
   "metadata": {},
   "outputs": [],
   "source": [
    "# Only cars that have less than 250,000 miles\n",
    "cars = cars[cars['odometer'] < 250000]"
   ]
  },
  {
   "cell_type": "code",
   "execution_count": 12,
   "id": "d54a19ef",
   "metadata": {},
   "outputs": [],
   "source": [
    "# Only cars that are priced between $1,500 and $60,000\n",
    "cars = cars[(cars['price'] <= 60000) & (cars['price'] >= 1500) ]"
   ]
  },
  {
   "cell_type": "code",
   "execution_count": 13,
   "id": "90c4a800",
   "metadata": {},
   "outputs": [],
   "source": [
    "# Drop all duplicate records\n",
    "cars.drop_duplicates(keep=False,inplace=True)"
   ]
  },
  {
   "cell_type": "code",
   "execution_count": null,
   "id": "8f5d6e7d",
   "metadata": {},
   "outputs": [],
   "source": [
    "cars.info()"
   ]
  },
  {
   "cell_type": "code",
   "execution_count": null,
   "id": "2246b11e",
   "metadata": {},
   "outputs": [],
   "source": [
    "cars.head()"
   ]
  },
  {
   "cell_type": "code",
   "execution_count": null,
   "id": "22449c08",
   "metadata": {},
   "outputs": [],
   "source": []
  },
  {
   "cell_type": "code",
   "execution_count": 15,
   "id": "3c1850e6",
   "metadata": {},
   "outputs": [],
   "source": [
    "# Save point to a file\n",
    "cars.to_csv(r'BasicCarDataCleaning.csv', index=False)"
   ]
  },
  {
   "cell_type": "code",
   "execution_count": 16,
   "id": "c5c386b0",
   "metadata": {},
   "outputs": [],
   "source": [
    "cars_copy = cars.copy()"
   ]
  },
  {
   "cell_type": "markdown",
   "id": "1038bf7c",
   "metadata": {},
   "source": [
    "> 1. Group by manufacturer and model, get the number of cars where each manufacturer and model are the same.\n",
    "2. Drop those manufacturer and model's that only have less than 7 instances of that manufacturer and model combination."
   ]
  },
  {
   "cell_type": "code",
   "execution_count": 17,
   "id": "7a2e8612",
   "metadata": {},
   "outputs": [],
   "source": [
    "cars_copy['model'] = cars_copy.model.str.split().str.get(0)"
   ]
  },
  {
   "cell_type": "code",
   "execution_count": 18,
   "id": "bc9e800f",
   "metadata": {},
   "outputs": [],
   "source": [
    "unique_models_w_manuf = cars_copy.groupby(['manufacturer', 'model']).size()"
   ]
  },
  {
   "cell_type": "code",
   "execution_count": 19,
   "id": "a1058132",
   "metadata": {},
   "outputs": [],
   "source": [
    "unique_models_w_manuf_df = pd.DataFrame(unique_models_w_manuf)"
   ]
  },
  {
   "cell_type": "code",
   "execution_count": 20,
   "id": "1a2a6565",
   "metadata": {},
   "outputs": [],
   "source": [
    "unique_models_w_manuf_df = unique_models_w_manuf_df.rename(columns={0: 'quantity'})"
   ]
  },
  {
   "cell_type": "code",
   "execution_count": 21,
   "id": "76a3bc59",
   "metadata": {},
   "outputs": [],
   "source": [
    "unique_models_w_manuf_df.to_csv(r'UniqueModelAndManufCombo.csv')"
   ]
  },
  {
   "cell_type": "code",
   "execution_count": 22,
   "id": "c93a5e6a",
   "metadata": {},
   "outputs": [],
   "source": [
    "unique_models_w_manuf_df=pd.read_csv('UniqueModelAndManufCombo.csv')"
   ]
  },
  {
   "cell_type": "code",
   "execution_count": 23,
   "id": "ab3d67cc",
   "metadata": {},
   "outputs": [],
   "source": [
    "unique_models_w_manuf_df = unique_models_w_manuf_df.sort_values('quantity')"
   ]
  },
  {
   "cell_type": "code",
   "execution_count": 24,
   "id": "4361db60",
   "metadata": {},
   "outputs": [],
   "source": [
    "filter_unique_models_w_manuf_df = unique_models_w_manuf_df[(unique_models_w_manuf_df['quantity'] < 7)]"
   ]
  },
  {
   "cell_type": "code",
   "execution_count": null,
   "id": "a3153664",
   "metadata": {},
   "outputs": [],
   "source": []
  },
  {
   "cell_type": "code",
   "execution_count": 25,
   "id": "5295140c",
   "metadata": {},
   "outputs": [],
   "source": [
    "for index, row in filter_unique_models_w_manuf_df.iterrows():\n",
    "    cars_copy.drop(cars_copy[(cars_copy['model'] == row['model']) & (cars_copy['manufacturer'] == row['manufacturer'])].index, inplace = True)"
   ]
  },
  {
   "cell_type": "code",
   "execution_count": null,
   "id": "b31cf4fc",
   "metadata": {
    "scrolled": true
   },
   "outputs": [],
   "source": [
    "cars_copy.info()"
   ]
  },
  {
   "cell_type": "code",
   "execution_count": null,
   "id": "af6c0af8",
   "metadata": {},
   "outputs": [],
   "source": []
  },
  {
   "cell_type": "code",
   "execution_count": null,
   "id": "3f65127f",
   "metadata": {},
   "outputs": [],
   "source": []
  },
  {
   "cell_type": "code",
   "execution_count": 27,
   "id": "c34a049d",
   "metadata": {},
   "outputs": [],
   "source": [
    "# Get rid of some records that have years in the model's column\n",
    "for i in range(2010, 2022):\n",
    "    cars_copy.drop(cars_copy[cars_copy['model'] == str(i)].index, inplace = True)"
   ]
  },
  {
   "cell_type": "code",
   "execution_count": 28,
   "id": "29d4ea1e",
   "metadata": {},
   "outputs": [],
   "source": [
    "cars = cars_copy"
   ]
  },
  {
   "cell_type": "code",
   "execution_count": 29,
   "id": "d5d73d5b",
   "metadata": {},
   "outputs": [],
   "source": [
    "cars.to_csv(r'FinalCarData.csv', index=False)"
   ]
  },
  {
   "cell_type": "code",
   "execution_count": null,
   "id": "27eaf6f4",
   "metadata": {},
   "outputs": [],
   "source": []
  }
 ],
 "metadata": {
  "kernelspec": {
   "display_name": "Python 3",
   "language": "python",
   "name": "python3"
  },
  "language_info": {
   "codemirror_mode": {
    "name": "ipython",
    "version": 3
   },
   "file_extension": ".py",
   "mimetype": "text/x-python",
   "name": "python",
   "nbconvert_exporter": "python",
   "pygments_lexer": "ipython3",
   "version": "3.8.8"
  }
 },
 "nbformat": 4,
 "nbformat_minor": 5
}
